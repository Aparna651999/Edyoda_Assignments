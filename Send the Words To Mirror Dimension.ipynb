{
 "cells": [
  {
   "cell_type": "markdown",
   "metadata": {},
   "source": [
    "# Send the Words To Mirror Dimension"
   ]
  },
  {
   "cell_type": "code",
   "execution_count": 7,
   "metadata": {},
   "outputs": [
    {
     "name": "stdout",
     "output_type": "stream",
     "text": [
      "Enter the word: Aparna\n",
      "A\n",
      "pA\n",
      "apA\n",
      "rapA\n",
      "nrapA\n",
      "anrapA\n",
      "The orignal string: Aparna\n",
      "The reversed string: anrapA\n"
     ]
    }
   ],
   "source": [
    "str=input(\"Enter the word: \")\n",
    "str1=\"\"\n",
    "for i in str:\n",
    "    str1=i+str1\n",
    "    print(str1)\n",
    "\n",
    "print(\"The orignal string:\",str)\n",
    "print(\"The reversed string:\",str1)    "
   ]
  }
 ],
 "metadata": {
  "kernelspec": {
   "display_name": "Python 3",
   "language": "python",
   "name": "python3"
  },
  "language_info": {
   "codemirror_mode": {
    "name": "ipython",
    "version": 3
   },
   "file_extension": ".py",
   "mimetype": "text/x-python",
   "name": "python",
   "nbconvert_exporter": "python",
   "pygments_lexer": "ipython3",
   "version": "3.8.5"
  }
 },
 "nbformat": 4,
 "nbformat_minor": 4
}
