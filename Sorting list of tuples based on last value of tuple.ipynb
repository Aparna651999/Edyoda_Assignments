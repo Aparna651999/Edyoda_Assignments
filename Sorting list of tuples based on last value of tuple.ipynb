{
 "cells": [
  {
   "cell_type": "code",
   "execution_count": 8,
   "metadata": {},
   "outputs": [
    {
     "name": "stdout",
     "output_type": "stream",
     "text": [
      "Enter the length of the list4\n",
      "1,8\n",
      "1,6\n",
      "4,3\n",
      "2,5\n",
      "[(1, 8), (1, 6), (4, 3), (2, 5)]\n"
     ]
    }
   ],
   "source": [
    "my_list = [ ] \n",
    "n=int(input(\"Enter the length of the list\"))\n",
    "for i in range(n): \n",
    "    a = eval(input())\n",
    "    my_list.append(a) \n",
    "print(my_list) "
   ]
  },
  {
   "cell_type": "code",
   "execution_count": 9,
   "metadata": {},
   "outputs": [
    {
     "name": "stdout",
     "output_type": "stream",
     "text": [
      "Sorted:\n",
      "[(4, 3), (2, 5), (1, 6), (1, 8)]\n"
     ]
    }
   ],
   "source": [
    "def last(n):\n",
    "    return n[-1] \n",
    "def sort(tuples):\n",
    "    return sorted(tuples, key=last)\n",
    "print(\"Sorted:\")\n",
    "print(sort(my_list))"
   ]
  },
  {
   "cell_type": "code",
   "execution_count": null,
   "metadata": {},
   "outputs": [],
   "source": []
  }
 ],
 "metadata": {
  "kernelspec": {
   "display_name": "Python 3",
   "language": "python",
   "name": "python3"
  },
  "language_info": {
   "codemirror_mode": {
    "name": "ipython",
    "version": 3
   },
   "file_extension": ".py",
   "mimetype": "text/x-python",
   "name": "python",
   "nbconvert_exporter": "python",
   "pygments_lexer": "ipython3",
   "version": "3.8.5"
  }
 },
 "nbformat": 4,
 "nbformat_minor": 4
}
