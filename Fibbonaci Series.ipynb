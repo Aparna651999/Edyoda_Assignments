{
 "cells": [
  {
   "cell_type": "markdown",
   "metadata": {},
   "source": [
    "# Python program to get the Fibbonacci Series "
   ]
  },
  {
   "cell_type": "code",
   "execution_count": 21,
   "metadata": {},
   "outputs": [
    {
     "name": "stdout",
     "output_type": "stream",
     "text": [
      "Enter the input value5\n",
      "Enter the 1st value of the series0\n",
      "Enter the 2nd value of the series1\n",
      "0\n",
      "1\n",
      "1\n",
      "2\n",
      "3\n",
      "5\n",
      "8\n",
      "13\n"
     ]
    }
   ],
   "source": [
    "n=int(input(\"Enter the input value\"))\n",
    "n1=int(input(\"Enter the 1st value of the series\"))\n",
    "n2=int(input(\"Enter the 2nd value of the series\"))\n",
    "if n1<0 or n2<0:\n",
    "    print(\"Enter the Positive number\")\n",
    "else:\n",
    "    print(n1)\n",
    "    print(n2)\n",
    "    for i in range(0,n+1):\n",
    "        fib=n1+n2\n",
    "        n1=n2\n",
    "        n2=fib\n",
    "        print(fib)"
   ]
  },
  {
   "cell_type": "code",
   "execution_count": null,
   "metadata": {},
   "outputs": [],
   "source": []
  }
 ],
 "metadata": {
  "kernelspec": {
   "display_name": "Python 3",
   "language": "python",
   "name": "python3"
  },
  "language_info": {
   "codemirror_mode": {
    "name": "ipython",
    "version": 3
   },
   "file_extension": ".py",
   "mimetype": "text/x-python",
   "name": "python",
   "nbconvert_exporter": "python",
   "pygments_lexer": "ipython3",
   "version": "3.8.5"
  }
 },
 "nbformat": 4,
 "nbformat_minor": 4
}
